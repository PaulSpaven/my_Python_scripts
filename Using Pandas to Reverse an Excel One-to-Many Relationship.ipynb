{
 "cells": [
  {
   "cell_type": "markdown",
   "metadata": {},
   "source": [
    "Built on Anaconda3 (Python version 3.4) on Windows 10 on 2015-08-10.\n",
    "\n",
    "This notebook analyzes an Excel file that shows a one-to-many relationship between the text in one column (named 'Company Name' in my work) and the text in another (named 'Ownership Status' in my work). The heart of this work is reversing the direction of the relationship; finding each unique member of the 'many' and showing its relationship to all members in the 'one' population. In effect, it reverses the original one-to-many to a new one-to-many.\n",
    "\n",
    "I'm sure there is a database term for this, but I am not a database guru. I'm just a guy who needed to find this new relationship from an existing Excel spreadsheet. I always wanted to learn more about Pandas, since I expect to be doing more analysis of spreadsheets in the coming weeks, and I dread the idea of using VBA to do the work."
   ]
  },
  {
   "cell_type": "code",
   "execution_count": 41,
   "metadata": {
    "collapsed": false
   },
   "outputs": [],
   "source": [
    "import pandas as pd"
   ]
  },
  {
   "cell_type": "markdown",
   "metadata": {},
   "source": [
    "Open the file. Note the use of the leading \"r\" in the file name, to pass the raw string to Pandas and avoid Unicode issues. The sheetname 'Screening' contains the data I'm using in this analysis."
   ]
  },
  {
   "cell_type": "code",
   "execution_count": 42,
   "metadata": {
    "collapsed": true
   },
   "outputs": [],
   "source": [
    "filename = r'C:\\Users\\Paul\\Documents\\03 - Professional\\Private Equity\\Aerospace and Defense Industry Research\\Spaven Analysis\\PE_backed_A&D_companies.xlsx'\n",
    "df = pd.read_excel(filename, sheetname='Screening')"
   ]
  },
  {
   "cell_type": "markdown",
   "metadata": {},
   "source": [
    "Take a look at the columns in this file, so I can find the owners' names.\n"
   ]
  },
  {
   "cell_type": "markdown",
   "metadata": {},
   "source": [
    "Looking at the Excel, I confirm that the column named 'Ownership Status' contains the \"many\" side of the relationship that I need to reverse."
   ]
  },
  {
   "cell_type": "markdown",
   "metadata": {},
   "source": [
    "Now that I have found the data of interest, I will convert it, row by row, into a Python dictionary. Keys are the names of owning companies, and values are lists of the names of companies in which they have an ownership interest. This is the 'heart' of this notebook. This is where the reversal of the one-to-many relationship takes place."
   ]
  },
  {
   "cell_type": "code",
   "execution_count": 45,
   "metadata": {
    "collapsed": false,
    "scrolled": true
   },
   "outputs": [
    {
     "name": "stdout",
     "output_type": "stream",
     "text": [
      " "
     ]
    }
   ],
   "source": [
    "owner_to_holdings = {}\n",
    "for owners in df['Ownership Status']:\n",
    "    owners_split = owners.split('; ')\n",
    "    for owner in owners_split:\n",
    "        if owner not in owner_to_holdings:\n",
    "            owner_to_holdings[owner] = [df['Company Name']]\n",
    "        else:\n",
    "            owner_to_holdings[owner].append(df['Company Name'])"
   ]
  },
  {
   "cell_type": "markdown",
   "metadata": {},
   "source": [
    "Now that I am happy the one-to-many has been reversed, I will convert the dictionary to a list. "
   ]
  },
  {
   "cell_type": "code",
   "execution_count": 47,
   "metadata": {
    "collapsed": false
   },
   "outputs": [],
   "source": [
    "list_of_owners = []\n",
    "for key, value in owner_to_holdings.items():\n",
    "    list_of_owners.append([key, len(value)])\n",
    "    "
   ]
  },
  {
   "cell_type": "markdown",
   "metadata": {},
   "source": [
    "Now create a Pandas DataFrame with the list of owners and the number of their holdings."
   ]
  },
  {
   "cell_type": "code",
   "execution_count": 54,
   "metadata": {
    "collapsed": false
   },
   "outputs": [],
   "source": [
    "df_owner = pd.DataFrame(list_of_owners)"
   ]
  },
  {
   "cell_type": "raw",
   "metadata": {},
   "source": [
    "Now send this to a new Excel workbook for further work."
   ]
  },
  {
   "cell_type": "code",
   "execution_count": 52,
   "metadata": {
    "collapsed": false
   },
   "outputs": [],
   "source": [
    "writer = pd.ExcelWriter(r'C:\\Users\\Paul\\Downloads\\PandasOutput.xlsx')\n",
    "df_owner.to_excel(writer, 'PandasOutput')\n",
    "writer.save()"
   ]
  },
  {
   "cell_type": "markdown",
   "metadata": {},
   "source": [
    "I am sure there are more elegant and Pythonic ways to do this, but I'm not a programmer, just an analyst happy to add a new tool to my kit--even if I don't know how best to use it yet :)"
   ]
  }
 ],
 "metadata": {
  "kernelspec": {
   "display_name": "Python 3",
   "language": "python",
   "name": "python3"
  },
  "language_info": {
   "codemirror_mode": {
    "name": "ipython",
    "version": 3
   },
   "file_extension": ".py",
   "mimetype": "text/x-python",
   "name": "python",
   "nbconvert_exporter": "python",
   "pygments_lexer": "ipython3",
   "version": "3.4.3"
  }
 },
 "nbformat": 4,
 "nbformat_minor": 0
}
